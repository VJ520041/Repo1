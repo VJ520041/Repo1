{
  "nbformat": 4,
  "nbformat_minor": 0,
  "metadata": {
    "colab": {
      "provenance": []
    },
    "kernelspec": {
      "name": "python3",
      "display_name": "Python 3"
    },
    "language_info": {
      "name": "python"
    }
  },
  "cells": [
    {
      "cell_type": "markdown",
      "source": [],
      "metadata": {
        "id": "4urqhJd9ah6_"
      }
    },
    {
      "cell_type": "code",
      "source": [
        "import numpy as np\n",
        "from PIL import Image"
      ],
      "metadata": {
        "id": "dqDm1Zc5aCtm"
      },
      "execution_count": null,
      "outputs": []
    },
    {
      "cell_type": "markdown",
      "source": [
        "Manual RGB to YCbCr Conversion\n"
      ],
      "metadata": {
        "id": "Ms6IblM3ahra"
      }
    },
    {
      "cell_type": "code",
      "source": [
        "def rgb_to_ycbcr(rgb):\n",
        "    ycbcr = np.zeros_like(rgb, dtype=float)\n",
        "    for i in range(rgb.shape[0]):\n",
        "        for j in range(rgb.shape[1]):\n",
        "            r, g, b = rgb[i, j]\n",
        "            y = 0.299 * r + 0.587 * g + 0.114 * b\n",
        "            cb = -0.1687 * r - 0.3313 * g + 0.5 * b + 128\n",
        "            cr = 0.5 * r - 0.4187 * g - 0.0813 * b + 128\n",
        "            ycbcr[i, j] = [y, cb, cr]\n",
        "    return ycbcr"
      ],
      "metadata": {
        "id": "UiMne6AmaH5b"
      },
      "execution_count": null,
      "outputs": []
    },
    {
      "cell_type": "markdown",
      "source": [
        "Subsampling 4:2:0\n"
      ],
      "metadata": {
        "id": "510Td94XahU6"
      }
    },
    {
      "cell_type": "code",
      "source": [
        "def subsample(ycbcr):\n",
        "    y = ycbcr[:, :, 0]\n",
        "    cb = ycbcr[::2, ::2, 1]\n",
        "    cr = ycbcr[::2, ::2, 2]\n",
        "    return y, cb, cr"
      ],
      "metadata": {
        "id": "yXl66MgVaJlm"
      },
      "execution_count": null,
      "outputs": []
    },
    {
      "cell_type": "markdown",
      "source": [
        "2D DCT on 8x8 blocks\n"
      ],
      "metadata": {
        "id": "pLGIs-zlag9e"
      }
    },
    {
      "cell_type": "code",
      "source": [
        "def dct_2d(block):\n",
        "    N = 8\n",
        "    dct_block = np.zeros((N, N), dtype=float)\n",
        "    for u in range(N):\n",
        "        for v in range(N):\n",
        "            sum_ = 0.0\n",
        "            for x in range(N):\n",
        "                for y in range(N):\n",
        "                    sum_ += block[x, y] * np.cos((2 * x + 1) * u * np.pi / (2 * N)) * np.cos((2 * y + 1) * v * np.pi / (2 * N))\n",
        "            c_u = 1 / np.sqrt(2) if u == 0 else 1\n",
        "            c_v = 1 / np.sqrt(2) if v == 0 else 1\n",
        "            dct_block[u, v] = 0.25 * c_u * c_v * sum_\n",
        "    return dct_block\n",
        "\n",
        "def apply_dct(component):\n",
        "    height, width = component.shape\n",
        "    dct_component = np.zeros_like(component, dtype=float)\n",
        "    for i in range(0, height, 8):\n",
        "        for j in range(0, width, 8):\n",
        "            dct_component[i:i+8, j:j+8] = dct_2d(component[i:i+8, j:j+8])\n",
        "    return dct_component"
      ],
      "metadata": {
        "id": "G6ZpDqGVaODf"
      },
      "execution_count": null,
      "outputs": []
    },
    {
      "cell_type": "markdown",
      "source": [
        "Quantization\n"
      ],
      "metadata": {
        "id": "uMV7J_OvagLK"
      }
    },
    {
      "cell_type": "code",
      "source": [
        "def quantize(block, q_matrix):\n",
        "    quantized = np.zeros_like(block, dtype=int)\n",
        "    for i in range(8):\n",
        "        for j in range(8):\n",
        "            quantized[i, j] = int(round(block[i, j] / q_matrix[i, j]))\n",
        "    return quantized\n",
        "\n",
        "def apply_quantization(dct_component, Q):\n",
        "    quantized = np.zeros_like(dct_component)\n",
        "    for i in range(0, dct_component.shape[0], 8):\n",
        "        for j in range(0, dct_component.shape[1], 8):\n",
        "            quantized[i:i+8, j:j+8] = quantize(dct_component[i:i+8, j:j+8], Q)\n",
        "    return quantized"
      ],
      "metadata": {
        "id": "9qnZ_kthaSFR"
      },
      "execution_count": null,
      "outputs": []
    },
    {
      "cell_type": "markdown",
      "source": [
        "Zigzag scan for Run-Length Encoding\n"
      ],
      "metadata": {
        "id": "wy5sma5cafhn"
      }
    },
    {
      "cell_type": "code",
      "source": [
        "def zigzag_order(block):\n",
        "    zigzag = []\n",
        "    indices = sorted(((i, j) for i in range(8) for j in range(8)), key=lambda x: (x[0] + x[1], -x[0] if (x[0] + x[1]) % 2 else x[1]))\n",
        "    return [block[i, j] for i, j in indices]\n",
        "\n",
        "def run_length_encode(block):\n",
        "    zz = zigzag_order(block)\n",
        "    rle = []\n",
        "    zero_count = 0\n",
        "    for value in zz:\n",
        "        if value == 0:\n",
        "            zero_count += 1\n",
        "        else:\n",
        "            rle.append((zero_count, value))\n",
        "            zero_count = 0\n",
        "    rle.append((0, 0))  # End of Block\n",
        "    return rle"
      ],
      "metadata": {
        "id": "xHELRpaPaVOO"
      },
      "execution_count": null,
      "outputs": []
    },
    {
      "cell_type": "markdown",
      "source": [
        "Full JPEG compression pipeline\n"
      ],
      "metadata": {
        "id": "WsJaJaePazLq"
      }
    },
    {
      "cell_type": "code",
      "source": [
        "def jpeg_compress_pipeline(input_image_path, output_image_path):\n",
        "    # Load image and convert to RGB array\n",
        "    image = Image.open(input_image_path).convert('RGB')\n",
        "    image_array = np.array(image)\n",
        "\n",
        "    # Step 1: Convert to YCbCr\n",
        "    ycbcr_array = rgb_to_ycbcr(image_array)\n",
        "\n",
        "    # Step 2: Subsample chrominance channels\n",
        "    y, cb, cr = subsample(ycbcr_array)\n",
        "\n",
        "    # Step 3: Apply DCT\n",
        "    y_dct = apply_dct(y)\n",
        "    cb_dct = apply_dct(cb)\n",
        "    cr_dct = apply_dct(cr)\n",
        "\n",
        "    # Step 4: Define quantization matrices\n",
        "    Q_Y = np.array([\n",
        "        [16, 11, 10, 16, 24, 40, 51, 61],\n",
        "        [12, 12, 14, 19, 26, 58, 60, 55],\n",
        "        [14, 13, 16, 24, 40, 57, 69, 56],\n",
        "        [14, 17, 22, 29, 51, 87, 80, 62],\n",
        "        [18, 22, 37, 56, 68, 109, 103, 77],\n",
        "        [24, 35, 55, 64, 81, 104, 113, 92],\n",
        "        [49, 64, 78, 87, 103, 121, 120, 101],\n",
        "        [72, 92, 95, 98, 112, 100, 103, 99]\n",
        "    ])\n",
        "\n",
        "    Q_C = np.array([\n",
        "        [17, 18, 24, 47, 99, 99, 99, 99],\n",
        "        [18, 21, 26, 66, 99, 99, 99, 99],\n",
        "        [24, 26, 56, 99, 99, 99, 99, 99],\n",
        "        [47, 66, 99, 99, 99, 99, 99, 99],\n",
        "        [99, 99, 99, 99, 99, 99, 99, 99],\n",
        "        [99, 99, 99, 99, 99, 99, 99, 99],\n",
        "        [99, 99, 99, 99, 99, 99, 99, 99],\n",
        "        [99, 99, 99, 99, 99, 99, 99, 99]\n",
        "    ])\n",
        "\n",
        "    # Step 5: Quantize\n",
        "    y_quant = apply_quantization(y_dct, Q_Y)\n",
        "    cb_quant = apply_quantization(cb_dct, Q_C)\n",
        "    cr_quant = apply_quantization(cr_dct, Q_C)\n",
        "\n",
        "    # Run-Length Encoding for each quantized block (not actually saving in JPEG format)\n",
        "    y_rle = [run_length_encode(y_quant[i:i+8, j:j+8]) for i in range(0, y_quant.shape[0], 8) for j in range(0, y_quant.shape[1], 8)]\n",
        "    cb_rle = [run_length_encode(cb_quant[i:i+8, j:j+8]) for i in range(0, cb_quant.shape[0], 8) for j in range(0, cb_quant.shape[1], 8)]\n",
        "    cr_rle = [run_length_encode(cr_quant[i:i+8, j:j+8]) for i in range(0, cr_quant.shape[0], 8) for j in range(0, cr_quant.shape[1], 8)]\n",
        "\n",
        "    # Note: JPEG encoding requires additional steps for saving to an actual JPEG file format.\n",
        "    # We are simulating compression here, and Huffman encoding isn't implemented for brevity.\n",
        "\n",
        "    print(\"JPEG compression pipeline completed\")\n",
        "\n",
        "    # Saving the original input image (since we don't create an actual JPEG file in this pipeline)\n",
        "    image.save(output_image_path)\n",
        "    print(f\"Output image saved as {output_image_path}\")"
      ],
      "metadata": {
        "id": "zmMjsEBkZ0Qd"
      },
      "execution_count": null,
      "outputs": []
    },
    {
      "cell_type": "code",
      "source": [
        "jpeg_compress_pipeline(\"/content/new_sample.jpg\", \"compressed_output.jpg\")"
      ],
      "metadata": {
        "id": "JwYBp1r6dgEb"
      },
      "execution_count": null,
      "outputs": []
    }
  ]
}