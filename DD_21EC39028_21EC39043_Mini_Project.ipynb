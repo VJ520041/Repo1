{
  "nbformat": 4,
  "nbformat_minor": 0,
  "metadata": {
    "colab": {
      "provenance": []
    },
    "kernelspec": {
      "name": "python3",
      "display_name": "Python 3"
    },
    "language_info": {
      "name": "python"
    }
  },
  "cells": [
    {
      "cell_type": "code",
      "execution_count": null,
      "metadata": {
        "id": "qPho0Mvqq_dN"
      },
      "outputs": [],
      "source": [
        "import numpy as np\n",
        "import cv2\n",
        "from collections import Counter\n",
        "import heapq"
      ]
    },
    {
      "cell_type": "markdown",
      "source": [
        "DCT of 8x8 2D Matrix"
      ],
      "metadata": {
        "id": "Ys9-QCnw3Ncg"
      }
    },
    {
      "cell_type": "code",
      "source": [
        "def alpha(k):\n",
        "    return 1 / np.sqrt(2) if k == 0 else 1\n",
        "\n",
        "def dct_2d_block(block):\n",
        "    N = block.shape[0]  # Assuming block is N x N (here, N = 8)\n",
        "    dct_block = np.zeros((N, N), dtype=float)\n",
        "    for u in range(N):\n",
        "        for v in range(N):\n",
        "            sum_val = 0.0\n",
        "            for x in range(N):\n",
        "                for y in range(N):\n",
        "                    sum_val += block[x, y] * np.cos((2 * x + 1) * u * np.pi / (2 * N)) * np.cos((2 * y + 1) * v * np.pi / (2 * N))\n",
        "            dct_block[u, v] = 0.25 * alpha(u) * alpha(v) * sum_val\n",
        "    return dct_block"
      ],
      "metadata": {
        "id": "Y7E_fEk92TxG"
      },
      "execution_count": null,
      "outputs": []
    },
    {
      "cell_type": "markdown",
      "source": [
        "RGB to YCbCr"
      ],
      "metadata": {
        "id": "vswu4cTF3Urt"
      }
    },
    {
      "cell_type": "code",
      "source": [
        "def rgb_to_ycbcr(image):\n",
        "    img_array = np.array(image, dtype=np.float32)\n",
        "    transformation_matrix = np.array([\n",
        "        [0.299, 0.587, 0.114],\n",
        "        [-0.168736, -0.331264, 0.5],\n",
        "        [0.5, -0.418688, -0.081312]\n",
        "    ])\n",
        "    offset = np.array([0, 128, 128])\n",
        "    ycbcr = np.dot(img_array, transformation_matrix.T) + offset\n",
        "    return ycbcr.clip(0, 255).astype(np.uint8)"
      ],
      "metadata": {
        "id": "YOFWiYlo2YOR"
      },
      "execution_count": null,
      "outputs": []
    },
    {
      "cell_type": "markdown",
      "source": [
        "Image into 8x8 Sub-blocks"
      ],
      "metadata": {
        "id": "t44GBBJT3X36"
      }
    },
    {
      "cell_type": "code",
      "source": [
        "def Divide_into_8by8_blocks(img):\n",
        "  blocks = []\n",
        "  for i in range(0,img.shape[0]//8,8):\n",
        "    for j in range(0,img.shape[1]//8,8):\n",
        "      blocks.append(img[i*8:i*8+8,j*8:j*8+8])\n",
        "  return np.array(blocks)"
      ],
      "metadata": {
        "id": "WyVwGT3c2bGZ"
      },
      "execution_count": null,
      "outputs": []
    },
    {
      "cell_type": "markdown",
      "source": [
        "VLI and DC Codes"
      ],
      "metadata": {
        "id": "tkNZnrNY3hpq"
      }
    },
    {
      "cell_type": "code",
      "source": [
        "def Get_VLI_code(Y_zg,VLI_code,DC_VLI_code):\n",
        "  Y_encoded = []\n",
        "  prev_DC = -4\n",
        "  for i in range(len(Y_zg)):\n",
        "    code = []\n",
        "    code.append((Y_zg[i][0]-prev_DC))\n",
        "    DC_VLI_code.append((Y_zg[i][0]-prev_DC))\n",
        "    prev_DC = Y_zg[i][0]\n",
        "    Zero_leng = 0\n",
        "    for j in range(1,len(Y_zg[i])):\n",
        "        if(Y_zg[i][j]==0):\n",
        "          Zero_leng+=1\n",
        "        else:\n",
        "          cate = 0\n",
        "          for k in range(1,10):\n",
        "            if(abs(Y_zg[i][j])>=pow(2,k-1) and abs(Y_zg[i][j])<pow(2,k)):\n",
        "              cate = k\n",
        "              break\n",
        "          code.append(((Zero_leng,cate),Y_zg[i][j]))\n",
        "          VLI_code.append((Zero_leng,cate))\n",
        "          Zero_leng = 0\n",
        "    if(Zero_leng!=0):\n",
        "      code.append(((Zero_leng,0),0))\n",
        "      VLI_code.append((Zero_leng,0))\n",
        "    code.append(((0,0)))\n",
        "    VLI_code.append((0,0))\n",
        "    Y_encoded.append(code)\n",
        "  return Y_encoded"
      ],
      "metadata": {
        "id": "g2z-oeEUxZfz"
      },
      "execution_count": null,
      "outputs": []
    },
    {
      "cell_type": "markdown",
      "source": [
        "Zig Zag Traversal"
      ],
      "metadata": {
        "id": "Ipw2DPtH3rRQ"
      }
    },
    {
      "cell_type": "code",
      "source": [
        "def Zig_Zag(mat):\n",
        "  d = {}\n",
        "  res = []\n",
        "  for i in range(mat.shape[0]):\n",
        "    for j in range(mat.shape[1]):\n",
        "      if(i+j in d.keys()):\n",
        "        d[i+j].append(mat[i,j])\n",
        "      else:\n",
        "        d[i+j] = [mat[i,j]]\n",
        "  for i in range(14):\n",
        "    if i in d:\n",
        "      l = d[i]\n",
        "      if(i%2==0):\n",
        "        l.reverse()\n",
        "      for ele in l:\n",
        "        res.append(ele)\n",
        "  return res"
      ],
      "metadata": {
        "id": "OOqtAeQU2fIN"
      },
      "execution_count": null,
      "outputs": []
    },
    {
      "cell_type": "markdown",
      "source": [
        "Tree For Making Nodes To Represents Each Symbols"
      ],
      "metadata": {
        "id": "1hp4JPYC3vKq"
      }
    },
    {
      "cell_type": "code",
      "source": [
        "class Node:\n",
        "    def __init__(self, freq, symbol=None, left=None, right=None):\n",
        "        self.freq = freq  # Frequency of the symbol\n",
        "        self.symbol = symbol  # Symbol (None for internal nodes)\n",
        "        self.left = left  # Left child\n",
        "        self.right = right  # Right child\n",
        "\n",
        "    def __lt__(self, other):\n",
        "        return self.freq < other.freq\n",
        "\n",
        "class HuffmanCoding:\n",
        "    def __init__(self, frequencies):\n",
        "        self.frequencies = frequencies\n",
        "        self.root = None\n",
        "\n",
        "    # Build the Huffman Tree\n",
        "    def build_tree(self):\n",
        "        heap = [Node(freq, symbol) for symbol, freq in self.frequencies.items()]\n",
        "        heapq.heapify(heap)\n",
        "        while len(heap) > 1:\n",
        "            left = heapq.heappop(heap)\n",
        "            right = heapq.heappop(heap)\n",
        "            merged = Node(left.freq + right.freq, left=left, right=right)\n",
        "            heapq.heappush(heap, merged)\n",
        "        self.root = heap[0]  # Root of the Huffman Tree\n",
        "        return self.root\n",
        "\n",
        "    # Generate Huffman Codes by traversing the tree\n",
        "    def generate_codes(self, node=None, prefix=\"\", codebook=None):\n",
        "        if codebook is None:\n",
        "            codebook = {}\n",
        "        if node is None:\n",
        "            node = self.root\n",
        "\n",
        "        if node.symbol is not None:\n",
        "            codebook[node.symbol] = prefix\n",
        "        else:\n",
        "            self.generate_codes(node.left, prefix + \"0\", codebook)\n",
        "            self.generate_codes(node.right, prefix + \"1\", codebook)\n",
        "        return codebook\n",
        "\n",
        "# --- Function to encode data using Huffman codes ---\n",
        "def encode_data(data, huffman_codes):\n",
        "    encoded_data = \"\"\n",
        "    for value in data:\n",
        "        # Check if the value is in the Huffman codes dictionary\n",
        "        if value in huffman_codes:\n",
        "            encoded_data += huffman_codes[value]  # Replace value with its code\n",
        "        else:\n",
        "            # Handle the case where the value is not found (e.g., skip, error message)\n",
        "            print(f\"Warning: Value {value} not found in Huffman codes.\")"
      ],
      "metadata": {
        "id": "lSh9u8-p3HDF"
      },
      "execution_count": null,
      "outputs": []
    },
    {
      "cell_type": "code",
      "source": [
        "# Example usage\n",
        "image = cv2.imread(\"/content/inputs/mandril_color.jpg\")\n",
        "h, w, _= image.shape\n",
        "img = image[:,:,::-1]\n",
        "X_padd = image.shape[0]%8\n",
        "Y_padd = image.shape[1]%8\n",
        "\n",
        "if X_padd != 0 :\n",
        "  image = np.pad(image, ((0, 8-X_padd), (0, 0), (0, 0)), mode='symmetric')\n",
        "if Y_padd != 0:\n",
        "  image = np.pad(image, ((0, 0), (0, 8-Y_padd), (0, 0)), mode='symmetric')\n"
      ],
      "metadata": {
        "id": "-nuJG5bCyCmZ"
      },
      "execution_count": null,
      "outputs": []
    },
    {
      "cell_type": "markdown",
      "source": [
        "Quantization"
      ],
      "metadata": {
        "id": "Ar_y7huUPPCH"
      }
    },
    {
      "cell_type": "code",
      "source": [
        "ycbcr_image = rgb_to_ycbcr(image)\n",
        "y = ycbcr_image[:,:,0]\n",
        "cb = ycbcr_image[:,:,1]\n",
        "cr = ycbcr_image[:,:,2]\n",
        "y_blocks = Divide_into_8by8_blocks(y)\n",
        "cb_blocks = Divide_into_8by8_blocks(cb)\n",
        "cr_blocks = Divide_into_8by8_blocks(cr)\n",
        "\n",
        "cb_blocks = cb_blocks[::1,::2,::2]\n",
        "cr_blocks = cr_blocks[::1,::2,::2]\n",
        "\n",
        "for i in range(y_blocks.shape[0]):\n",
        "  y_blocks[i] = dct_2d_block(y_blocks[i])\n",
        "\n",
        "for i in range(cb_blocks.shape[0]):\n",
        "  cb_blocks[i] = dct_2d_block(cb_blocks[i])\n",
        "  cr_blocks[i] = dct_2d_block(cr_blocks[i])\n",
        "\n",
        "  Y_quantization_table = np.array([\n",
        "    [16, 11, 10, 16, 24,  40,  51,  61],\n",
        "    [12, 12, 14, 19, 26,  58,  60,  55],\n",
        "    [14, 13, 16, 24, 40,  57,  69,  56],\n",
        "    [14, 17, 22, 29, 51,  87,  80,  62],\n",
        "    [18, 22, 37, 56, 68, 109, 103,  77],\n",
        "    [24, 35, 55, 64, 81, 104, 113,  92],\n",
        "    [49, 64, 78, 87, 103, 121, 120, 101],\n",
        "    [72, 92, 95, 98, 112, 100, 103,  99]\n",
        "])\n",
        "C_quantization_table = np.array([\n",
        "    [17, 18, 24, 47, 99, 99, 99, 99],\n",
        "    [18, 21, 26, 66, 99, 99, 99, 99],\n",
        "    [24, 26, 56, 99, 99, 99, 99, 99],\n",
        "    [47, 66, 99, 99, 99, 99, 99, 99],\n",
        "    [99, 99, 99, 99, 99, 99, 99, 99],\n",
        "    [99, 99, 99, 99, 99, 99, 99, 99],\n",
        "    [99, 99, 99, 99, 99, 99, 99, 99],\n",
        "    [99, 99, 99, 99, 99, 99, 99, 99]\n",
        "])\n",
        "\n",
        "for i in range(y_blocks.shape[0]):\n",
        "  for j in range(y_blocks.shape[1]):\n",
        "    for k in range(y_blocks.shape[2]):\n",
        "      y_blocks[i,j,k] = np.round(y_blocks[i,j,k]/Y_quantization_table[j,k])\n",
        "\n",
        "for i in range(cb_blocks.shape[0]):\n",
        "  for j in range(cb_blocks.shape[1]):\n",
        "    for k in range(cb_blocks.shape[2]):\n",
        "      cb_blocks[i,j,k] = np.round(cb_blocks[i,j,k]/C_quantization_table[j,k])\n",
        "      cr_blocks[i,j,k] = np.round(cr_blocks[i,j,k]/C_quantization_table[j,k])\n",
        "\n",
        "Y_zg = []\n",
        "Cb_zg = []\n",
        "Cr_zg = []\n",
        "\n",
        "for i in range(y_blocks.shape[0]):\n",
        "  Y_zg.append(Zig_Zag(y_blocks[i]))\n",
        "  Cb_zg.append(Zig_Zag(cb_blocks[i]))\n",
        "  Cr_zg.append(Zig_Zag(cr_blocks[i]))\n",
        "\n",
        "Y_zg = np.array(Y_zg).astype(int)\n",
        "Cb_zg = np.array(Cb_zg).astype(int)\n",
        "Cr_zg = np.array(Cr_zg).astype(int)\n",
        "\n",
        "VLI_code = []\n",
        "DC_VLI_code = []\n",
        "\n",
        "Y_encoded = Get_VLI_code(Y_zg,VLI_code,DC_VLI_code)\n",
        "Cr_encoded = Get_VLI_code(Cr_zg,VLI_code,DC_VLI_code)\n",
        "Cb_encoded = Get_VLI_code(Cb_zg,VLI_code,DC_VLI_code)\n",
        "\n",
        "# print(Y_encoded)\n",
        "# print(Cr_encoded)\n",
        "# print(Cb_encoded)\n",
        "\n",
        "# print(VLI_code)\n",
        "VLI_freq = Counter(VLI_code)\n",
        "\n",
        "huffman_AC = HuffmanCoding(VLI_freq)\n",
        "huffman_AC.build_tree()\n",
        "VLI_huff_codes = huffman_AC.generate_codes()\n",
        "huffman__DC = HuffmanCoding(Counter(DC_VLI_code))\n",
        "huffman__DC.build_tree()\n",
        "VLI_DC_huff_codes = huffman__DC.generate_codes()\n",
        "\n",
        "# print(VLI_huff_codes)\n",
        "# print(VLI_DC_huff_codes)\n",
        "\n",
        "# Concatenate Huffman codes for Y_encoded, Cr_encoded, and Cb_encoded into separate strings\n",
        "Y_huffman_encoded_string = \"\"\n",
        "Cr_huffman_encoded_string = \"\"\n",
        "Cb_huffman_encoded_string = \"\"\n",
        "\n",
        "# Loop through each block in Y_encoded, Cr_encoded, and Cb_encoded and concatenate them\n",
        "for block in Y_encoded:\n",
        "    dc_value = block[0]\n",
        "    dc_encoded = VLI_DC_huff_codes.get(dc_value, \"\")\n",
        "    ac_encoded = \"\".join(VLI_huff_codes.get(ac_value, \"\") for ac_value in block[1:])\n",
        "    Y_huffman_encoded_string += dc_encoded + ac_encoded\n",
        "\n",
        "for block in Cr_encoded:\n",
        "    dc_value = block[0]\n",
        "    dc_encoded = VLI_DC_huff_codes.get(dc_value, \"\")\n",
        "    ac_encoded = \"\".join(VLI_huff_codes.get(ac_value, \"\") for ac_value in block[1:])\n",
        "    Cr_huffman_encoded_string += dc_encoded + ac_encoded\n",
        "\n",
        "for block in Cb_encoded:\n",
        "    dc_value = block[0]\n",
        "    dc_encoded = VLI_DC_huff_codes.get(dc_value, \"\")\n",
        "    ac_encoded = \"\".join(VLI_huff_codes.get(ac_value, \"\") for ac_value in block[1:])\n",
        "    Cb_huffman_encoded_string += dc_encoded + ac_encoded\n",
        "\n",
        "# Print the results to check\n",
        "print(\"Y_encoded Huffman string:\\n\", Y_huffman_encoded_string)\n",
        "print(\"Cr_encoded Huffman string:\\n\", Cr_huffman_encoded_string)\n",
        "print(\"Cb_encoded Huffman string:\\n\", Cb_huffman_encoded_string)\n",
        "\n",
        "# Write the encoded data and Huffman codes to a text file\n",
        "with open(\"encoded_image_data.txt\", \"w\") as f:\n",
        "    # Write Y, Cr, and Cb encoded data\n",
        "    f.write(\"Y_encoded:\\n\")\n",
        "    for item in Y_encoded:\n",
        "        f.write(f\"{item}\\n\")\n",
        "\n",
        "    f.write(\"\\nCr_encoded:\\n\")\n",
        "    for item in Cr_encoded:\n",
        "        f.write(f\"{item}\\n\")\n",
        "\n",
        "    f.write(\"\\nCb_encoded:\\n\")\n",
        "    for item in Cb_encoded:\n",
        "        f.write(f\"{item}\\n\")\n",
        "\n",
        "    # Write Huffman codes for VLI (AC) and DC\n",
        "    f.write(\"\\nVLI_huff_codes:\\n\")\n",
        "    for symbol, code in VLI_huff_codes.items():\n",
        "        f.write(f\"{symbol}: {code}\\n\")\n",
        "\n",
        "    f.write(\"\\nVLI_DC_huff_codes:\\n\")\n",
        "    for symbol, code in VLI_DC_huff_codes.items():\n",
        "        f.write(f\"{symbol}: {code}\\n\")\n",
        "\n",
        "print(\"Encoded data written to text file successfully.\")"
      ],
      "metadata": {
        "colab": {
          "base_uri": "https://localhost:8080/"
        },
        "id": "YE39kogj47SU",
        "outputId": "d1cad6c1-e1d0-43b9-9554-6c274af23334"
      },
      "execution_count": null,
      "outputs": [
        {
          "output_type": "stream",
          "name": "stdout",
          "text": [
            "Y_encoded Huffman string:\n",
            " 11000111010011000001001001001001110010000101001101100100000010011100100100100100010000100010110100100000010001000010001001010011000001000010100101101010010011010010001010001101001000010100111101010010000001001111000100101001000000100110110010000001000010100111110100110101010011100100110100010001010010001101001101000100101001001000101001010010010010010011011110100101001001111010100111110100110110010011010001001111010100110111001000101101000000100111101010011011100100110001100100100001010001101001101010100111110100000010001000010011010001000110100001010011110001001101010100\n",
            "Cr_encoded Huffman string:\n",
            " 110001010100000010010011010000101000110100011010001101001110010000001000110100100110100001010011100100111001000100101001101010100011010000001001010010010001010010110101001111000100111110100111001000010100111001001111000100111001001001001000101001001111101000110100010110100101001000101001000000100110010100101110100110010100000010001011010001001010010001010000101001001001001101111010011111010000001000100001001010010010100100000010000001001110010001010010011001010000001001110010010100100001010001101000000100101110100110010100\n",
            "Cb_encoded Huffman string:\n",
            " 10000101000110100110010100011010001101000110100011010010111010000101000110100110010100001010011000100010001001010010010010010111010000101000110100110010100111001001110010000101001010010000101001011101000110100101101010010011010001011010001001010010011010001101001000101001110010010110010100001010001010010010110010100100110100000010001010010001011010010000001001110010011100100001010010100100001010010001010000001001111101001101100100001010010100100101001001011101001011000010011000001000000100011010001101000010100111110100101110100\n",
            "Encoded data written to text file successfully.\n"
          ]
        }
      ]
    },
    {
      "cell_type": "markdown",
      "source": [],
      "metadata": {
        "id": "ej6WD4Tw8pY4"
      }
    },
    {
      "cell_type": "code",
      "source": [],
      "metadata": {
        "id": "tS2c9zf8mkVK"
      },
      "execution_count": null,
      "outputs": []
    }
  ]
}